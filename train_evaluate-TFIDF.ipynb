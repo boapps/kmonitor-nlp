{
 "cells": [
  {
   "cell_type": "code",
   "execution_count": null,
   "id": "6cae0658-fd03-4578-a356-b784027fe900",
   "metadata": {},
   "outputs": [],
   "source": [
    "import sys\n",
    "\n",
    "import numpy as np\n",
    "import pandas as pd\n",
    "from tqdm import tqdm\n",
    "\n",
    "import re\n",
    "import string\n",
    "\n",
    "import nltk\n",
    "from nltk.corpus import stopwords\n",
    "from nltk.stem import WordNetLemmatizer  \n",
    "\n",
    "from sklearn.model_selection import train_test_split\n",
    "from sklearn.metrics import confusion_matrix,classification_report\n",
    "from sklearn.feature_extraction.text import CountVectorizer, TfidfVectorizer\n",
    "from sklearn.ensemble import RandomForestClassifier\n",
    "from sklearn.metrics import confusion_matrix,classification_report\n",
    "\n",
    "import matplotlib.pyplot as plt\n",
    "import seaborn as sns"
   ]
  },
  {
   "cell_type": "code",
   "execution_count": null,
   "id": "c778488f-1db2-45b3-95ee-53c8eab5a59c",
   "metadata": {},
   "outputs": [],
   "source": [
    "df = pd.read_csv('dataset_v2/train.csv')\n",
    "df_val = pd.read_csv('dataset_v2/validation.csv')\n",
    "df_test = pd.read_csv('dataset_v2/test.csv')\n",
    "\n",
    "display(df)"
   ]
  },
  {
   "cell_type": "code",
   "execution_count": null,
   "id": "63fb1387-33b9-46cb-ba6e-524fd306e7d2",
   "metadata": {},
   "outputs": [],
   "source": [
    "ax = sns.countplot(x=\"theme\", data=df)"
   ]
  },
  {
   "cell_type": "code",
   "execution_count": null,
   "id": "1aecb16e-0ff0-47b6-89a1-ad26805a1751",
   "metadata": {},
   "outputs": [],
   "source": [
    "# https://raw.githubusercontent.com/stopwords-iso/stopwords-hu/master/stopwords-hu.json\n",
    "stop_words = [\"\", \"a\",\"abba\",\"abban\",\"abból\",\"addig\",\"ahhoz\",\"ahogy\",\"ahol\",\"aki\",\"akik\",\"akkor\",\"akár\",\"alapján\",\"alatt\",\"alatta\",\"alattad\",\"alattam\",\"alattatok\",\"alattuk\",\"alattunk\",\"alá\",\"alád\",\"alájuk\",\"alám\",\"alánk\",\"alátok\",\"alól\",\"alóla\",\"alólad\",\"alólam\",\"alólatok\",\"alóluk\",\"alólunk\",\"amely\",\"amelybol\",\"amelyek\",\"amelyekben\",\"amelyeket\",\"amelyet\",\"amelyik\",\"amelynek\",\"ami\",\"amikor\",\"amit\",\"amolyan\",\"amott\",\"amíg\",\"annak\",\"annál\",\"arra\",\"arról\",\"attól\",\"az\",\"aznap\",\"azok\",\"azokat\",\"azokba\",\"azokban\",\"azokból\",\"azokhoz\",\"azokig\",\"azokkal\",\"azokká\",\"azoknak\",\"azoknál\",\"azokon\",\"azokra\",\"azokról\",\"azoktól\",\"azokért\",\"azon\",\"azonban\",\"azonnal\",\"azt\",\"aztán\",\"azután\",\"azzal\",\"azzá\",\"azért\",\"bal\",\"balra\",\"ban\",\"be\",\"belé\",\"beléd\",\"beléjük\",\"belém\",\"belénk\",\"belétek\",\"belül\",\"belőle\",\"belőled\",\"belőlem\",\"belőletek\",\"belőlük\",\"belőlünk\",\"ben\",\"benne\",\"benned\",\"bennem\",\"bennetek\",\"bennük\",\"bennünk\",\"bár\",\"bárcsak\",\"bármilyen\",\"búcsú\",\"cikk\",\"cikkek\",\"cikkeket\",\"csak\",\"csakhogy\",\"csupán\",\"de\",\"dehogy\",\"e\",\"ebbe\",\"ebben\",\"ebből\",\"eddig\",\"egy\",\"egyebek\",\"egyebet\",\"egyedül\",\"egyelőre\",\"egyes\",\"egyet\",\"egyetlen\",\"egyik\",\"egymás\",\"egyre\",\"egyszerre\",\"egyéb\",\"együtt\",\"egész\",\"egészen\",\"ehhez\",\"ekkor\",\"el\",\"eleinte\",\"ellen\",\"ellenes\",\"elleni\",\"ellenére\",\"elmondta\",\"elsõ\",\"első\",\"elsők\",\"elsősorban\",\"elsőt\",\"elé\",\"eléd\",\"elég\",\"eléjük\",\"elém\",\"elénk\",\"elétek\",\"elõ\",\"elõször\",\"elõtt\",\"elő\",\"előbb\",\"elől\",\"előle\",\"előled\",\"előlem\",\"előletek\",\"előlük\",\"előlünk\",\"először\",\"előtt\",\"előtte\",\"előtted\",\"előttem\",\"előttetek\",\"előttük\",\"előttünk\",\"előző\",\"emilyen\",\"engem\",\"ennek\",\"ennyi\",\"ennél\",\"enyém\",\"erre\",\"erről\",\"esetben\",\"ettől\",\"ez\",\"ezek\",\"ezekbe\",\"ezekben\",\"ezekből\",\"ezeken\",\"ezeket\",\"ezekhez\",\"ezekig\",\"ezekkel\",\"ezekké\",\"ezeknek\",\"ezeknél\",\"ezekre\",\"ezekről\",\"ezektől\",\"ezekért\",\"ezen\",\"ezentúl\",\"ezer\",\"ezret\",\"ezt\",\"ezután\",\"ezzel\",\"ezzé\",\"ezért\",\"fel\",\"fele\",\"felek\",\"felet\",\"felett\",\"felé\",\"fent\",\"fenti\",\"fél\",\"fölé\",\"gyakran\",\"ha\",\"halló\",\"hamar\",\"hanem\",\"harmadik\",\"harmadikat\",\"harminc\",\"hat\",\"hatodik\",\"hatodikat\",\"hatot\",\"hatvan\",\"helyett\",\"hetedik\",\"hetediket\",\"hetet\",\"hetven\",\"hirtelen\",\"hiszen\",\"hiába\",\"hogy\",\"hogyan\",\"hol\",\"holnap\",\"holnapot\",\"honnan\",\"hova\",\"hozzá\",\"hozzád\",\"hozzájuk\",\"hozzám\",\"hozzánk\",\"hozzátok\",\"hurrá\",\"huszadik\",\"hány\",\"hányszor\",\"hármat\",\"három\",\"hát\",\"hátha\",\"hátulsó\",\"hét\",\"húsz\",\"ide\",\"ide-оda\",\"idén\",\"igazán\",\"igen\",\"ill\",\"ill.\",\"illetve\",\"ilyen\",\"ilyenkor\",\"immár\",\"inkább\",\"is\",\"ismét\",\"ison\",\"itt\",\"jelenleg\",\"jobban\",\"jobbra\",\"jó\",\"jól\",\"jólesik\",\"jóval\",\"jövőre\",\"kell\",\"kellene\",\"kellett\",\"kelljen\",\"keressünk\",\"keresztül\",\"ketten\",\"kettő\",\"kettőt\",\"kevés\",\"ki\",\"kiben\",\"kiből\",\"kicsit\",\"kicsoda\",\"kihez\",\"kik\",\"kikbe\",\"kikben\",\"kikből\",\"kiken\",\"kiket\",\"kikhez\",\"kikkel\",\"kikké\",\"kiknek\",\"kiknél\",\"kikre\",\"kikről\",\"kiktől\",\"kikért\",\"kilenc\",\"kilencedik\",\"kilencediket\",\"kilencet\",\"kilencven\",\"kin\",\"kinek\",\"kinél\",\"kire\",\"kiről\",\"kit\",\"kitől\",\"kivel\",\"kivé\",\"kié\",\"kiért\",\"korábban\",\"képest\",\"kérem\",\"kérlek\",\"kész\",\"késő\",\"később\",\"későn\",\"két\",\"kétszer\",\"kívül\",\"körül\",\"köszönhetően\",\"köszönöm\",\"közben\",\"közel\",\"közepesen\",\"közepén\",\"közé\",\"között\",\"közül\",\"külön\",\"különben\",\"különböző\",\"különbözőbb\",\"különbözőek\",\"lassan\",\"le\",\"legalább\",\"legyen\",\"lehet\",\"lehetetlen\",\"lehetett\",\"lehetőleg\",\"lehetőség\",\"lenne\",\"lenni\",\"lennék\",\"lennének\",\"lesz\",\"leszek\",\"lesznek\",\"leszünk\",\"lett\",\"lettek\",\"lettem\",\"lettünk\",\"lévő\",\"ma\",\"maga\",\"magad\",\"magam\",\"magatokat\",\"magukat\",\"magunkat\",\"magát\",\"mai\",\"majd\",\"majdnem\",\"manapság\",\"meg\",\"megcsinál\",\"megcsinálnak\",\"megint\",\"megvan\",\"mellett\",\"mellette\",\"melletted\",\"mellettem\",\"mellettetek\",\"mellettük\",\"mellettünk\",\"mellé\",\"melléd\",\"melléjük\",\"mellém\",\"mellénk\",\"mellétek\",\"mellől\",\"mellőle\",\"mellőled\",\"mellőlem\",\"mellőletek\",\"mellőlük\",\"mellőlünk\",\"mely\",\"melyek\",\"melyik\",\"mennyi\",\"mert\",\"mi\",\"miatt\",\"miatta\",\"miattad\",\"miattam\",\"miattatok\",\"miattuk\",\"miattunk\",\"mibe\",\"miben\",\"miből\",\"mihez\",\"mik\",\"mikbe\",\"mikben\",\"mikből\",\"miken\",\"miket\",\"mikhez\",\"mikkel\",\"mikké\",\"miknek\",\"miknél\",\"mikor\",\"mikre\",\"mikről\",\"miktől\",\"mikért\",\"milyen\",\"min\",\"mind\",\"mindegyik\",\"mindegyiket\",\"minden\",\"mindenesetre\",\"mindenki\",\"mindent\",\"mindenütt\",\"mindig\",\"mindketten\",\"minek\",\"minket\",\"mint\",\"mintha\",\"minél\",\"mire\",\"miről\",\"mit\",\"mitől\",\"mivel\",\"mivé\",\"miért\",\"mondta\",\"most\",\"mostanáig\",\"már\",\"más\",\"másik\",\"másikat\",\"másnap\",\"második\",\"másodszor\",\"mások\",\"másokat\",\"mást\",\"még\",\"mégis\",\"míg\",\"mögé\",\"mögéd\",\"mögéjük\",\"mögém\",\"mögénk\",\"mögétek\",\"mögött\",\"mögötte\",\"mögötted\",\"mögöttem\",\"mögöttetek\",\"mögöttük\",\"mögöttünk\",\"mögül\",\"mögüle\",\"mögüled\",\"mögülem\",\"mögületek\",\"mögülük\",\"mögülünk\",\"múltkor\",\"múlva\",\"na\",\"nagy\",\"nagyobb\",\"nagyon\",\"naponta\",\"napot\",\"ne\",\"negyedik\",\"negyediket\",\"negyven\",\"neked\",\"nekem\",\"neki\",\"nekik\",\"nektek\",\"nekünk\",\"nem\",\"nemcsak\",\"nemrég\",\"nincs\",\"nyolc\",\"nyolcadik\",\"nyolcadikat\",\"nyolcat\",\"nyolcvan\",\"nála\",\"nálad\",\"nálam\",\"nálatok\",\"náluk\",\"nálunk\",\"négy\",\"négyet\",\"néha\",\"néhány\",\"nélkül\",\"o\",\"oda\",\"ok\",\"olyan\",\"onnan\",\"ott\",\"pedig\",\"persze\",\"pár\",\"például\",\"rajta\",\"rajtad\",\"rajtam\",\"rajtatok\",\"rajtuk\",\"rajtunk\",\"rendben\",\"rosszul\",\"rá\",\"rád\",\"rájuk\",\"rám\",\"ránk\",\"rátok\",\"régen\",\"régóta\",\"részére\",\"róla\",\"rólad\",\"rólam\",\"rólatok\",\"róluk\",\"rólunk\",\"rögtön\",\"s\",\"saját\",\"se\",\"sem\",\"semmi\",\"semmilyen\",\"semmiség\",\"senki\",\"soha\",\"sok\",\"sokan\",\"sokat\",\"sokkal\",\"sokszor\",\"sokáig\",\"során\",\"stb.\",\"szemben\",\"szerbusz\",\"szerint\",\"szerinte\",\"szerinted\",\"szerintem\",\"szerintetek\",\"szerintük\",\"szerintünk\",\"szervusz\",\"szinte\",\"számára\",\"száz\",\"századik\",\"százat\",\"szépen\",\"szét\",\"szíves\",\"szívesen\",\"szíveskedjék\",\"sőt\",\"talán\",\"tavaly\",\"te\",\"tegnap\",\"tegnapelőtt\",\"tehát\",\"tele\",\"teljes\",\"tessék\",\"ti\",\"tied\",\"titeket\",\"tizedik\",\"tizediket\",\"tizenegy\",\"tizenegyedik\",\"tizenhat\",\"tizenhárom\",\"tizenhét\",\"tizenkettedik\",\"tizenkettő\",\"tizenkilenc\",\"tizenkét\",\"tizennyolc\",\"tizennégy\",\"tizenöt\",\"tizet\",\"tovább\",\"további\",\"továbbá\",\"távol\",\"téged\",\"tényleg\",\"tíz\",\"több\",\"többi\",\"többször\",\"túl\",\"tőle\",\"tőled\",\"tőlem\",\"tőletek\",\"tőlük\",\"tőlünk\",\"ugyanakkor\",\"ugyanez\",\"ugyanis\",\"ugye\",\"urak\",\"uram\",\"urat\",\"utoljára\",\"utolsó\",\"után\",\"utána\",\"vagy\",\"vagyis\",\"vagyok\",\"vagytok\",\"vagyunk\",\"vajon\",\"valahol\",\"valaki\",\"valakit\",\"valamelyik\",\"valami\",\"valamint\",\"való\",\"van\",\"vannak\",\"vele\",\"veled\",\"velem\",\"veletek\",\"velük\",\"velünk\",\"vissza\",\"viszlát\",\"viszont\",\"viszontlátásra\",\"volna\",\"volnának\",\"volnék\",\"volt\",\"voltak\",\"voltam\",\"voltunk\",\"végre\",\"végén\",\"végül\",\"által\",\"általában\",\"ám\",\"át\",\"éljen\",\"én\",\"éppen\",\"érte\",\"érted\",\"értem\",\"értetek\",\"értük\",\"értünk\",\"és\",\"év\",\"évben\",\"éve\",\"évek\",\"éves\",\"évi\",\"évvel\",\"így\",\"óta\",\"õ\",\"õk\",\"õket\",\"ön\",\"önbe\",\"önben\",\"önből\",\"önhöz\",\"önnek\",\"önnel\",\"önnél\",\"önre\",\"önről\",\"önt\",\"öntől\",\"önért\",\"önök\",\"önökbe\",\"önökben\",\"önökből\",\"önöket\",\"önökhöz\",\"önökkel\",\"önöknek\",\"önöknél\",\"önökre\",\"önökről\",\"önöktől\",\"önökért\",\"önökön\",\"önön\",\"össze\",\"öt\",\"ötven\",\"ötödik\",\"ötödiket\",\"ötöt\",\"úgy\",\"úgyis\",\"úgynevezett\",\"új\",\"újabb\",\"újra\",\"úr\",\"ő\",\"ők\",\"őket\",\"őt\"]\n",
    "html = re.compile(r'<.*?>')\n",
    "url = re.compile(r'http\\S+')\n",
    "\n",
    "def clean_text(text):\n",
    "    text = text.lower()\n",
    "    text = url.sub('',text)\n",
    "    text = html.sub('',text)\n",
    "\n",
    "    punctuations = '@#!?+&*[]-%.:/();$=><|{}^' + \"'`\" + '_'\n",
    "    for p in punctuations:\n",
    "        text = text.replace(p,' ')\n",
    "\n",
    "    text = [word.lower().strip() for word in text.split()]\n",
    "    text = [word for word in text if word not in stop_words]\n",
    "    return \" \".join(text)"
   ]
  },
  {
   "cell_type": "code",
   "execution_count": null,
   "id": "25159f95-3166-438d-a997-2309cfbe826b",
   "metadata": {},
   "outputs": [],
   "source": [
    "df['text'] = df['text'].apply(lambda x: clean_text(x))\n",
    "df_val['text'] = df_val['text'].apply(lambda x: clean_text(x))\n",
    "df_test['text'] = df_test['text'].apply(lambda x: clean_text(x))\n",
    "\n",
    "df['theme'] = df['theme'].apply(lambda x: x if x == 1 else 0)\n",
    "df.head()"
   ]
  },
  {
   "cell_type": "code",
   "execution_count": null,
   "id": "c23c7108-3c2c-426f-bf5c-aec5bdad529b",
   "metadata": {},
   "outputs": [],
   "source": [
    "X_train = df['text'].values\n",
    "X_test = df_test['text'].values\n",
    "\n",
    "y_train = df['theme'].values\n",
    "y_test = df_test['theme'].values"
   ]
  },
  {
   "cell_type": "code",
   "execution_count": null,
   "id": "94ab38f9-43eb-4366-a340-bad87154ea48",
   "metadata": {},
   "outputs": [],
   "source": [
    "tfidf_vectorizer = TfidfVectorizer()\n",
    "tfidf_train_vectors = tfidf_vectorizer.fit_transform(X_train)\n",
    "tfidf_test_vectors = tfidf_vectorizer.transform(X_test)\n",
    "\n",
    "classifier = RandomForestClassifier()\n",
    "classifier.fit(tfidf_train_vectors,y_train)"
   ]
  },
  {
   "cell_type": "code",
   "execution_count": null,
   "id": "82beadae-70a2-4adb-85e8-46050c090a58",
   "metadata": {},
   "outputs": [],
   "source": [
    "y_proba = classifier.predict_proba(tfidf_test_vectors)\n",
    "y_proba"
   ]
  },
  {
   "cell_type": "code",
   "execution_count": null,
   "id": "1422b619-3085-49de-b3dd-3707a2e6f744",
   "metadata": {},
   "outputs": [],
   "source": [
    "import csv\n",
    "with open('tfidf_validation.csv', 'w', newline='') as csvfile:\n",
    "    csvwriter = csv.writer(csvfile)\n",
    "    for proba, label in zip(y_proba, y_test):\n",
    "        csvwriter.writerow([proba[0], int(label)])"
   ]
  },
  {
   "cell_type": "code",
   "execution_count": null,
   "id": "0aaa6e99-e3e1-4d2b-87a7-5d6bcb1df222",
   "metadata": {},
   "outputs": [],
   "source": [
    "import time\n",
    "tfidf_vectorizer = TfidfVectorizer()\n",
    "\n",
    "total = 0\n",
    "for i in tqdm(range(10)):\n",
    "    X_train = df['text'].values\n",
    "    X_test = df_test['text'].values\n",
    "\n",
    "    y_train = df['theme'].values\n",
    "    y_test = df_test['theme'].values\n",
    "    tfidf_train_vectors = tfidf_vectorizer.fit_transform(X_train)\n",
    "    tfidf_test_vectors = tfidf_vectorizer.transform(X_test)\n",
    "\n",
    "    classifier = RandomForestClassifier(random_state = i)\n",
    "    classifier.fit(tfidf_train_vectors,y_train)\n",
    "\n",
    "    y_pred = classifier.predict(tfidf_test_vectors)\n",
    "\n",
    "    total += classification_report(y_test,y_pred, output_dict=True)['accuracy']\n",
    "    print(classification_report(y_test,y_pred, output_dict=True)['accuracy'])\n",
    "\n",
    "print(f'Test Accuracy: {total/10: .5f}')"
   ]
  }
 ],
 "metadata": {
  "kernelspec": {
   "display_name": "venv",
   "language": "python",
   "name": "venv"
  },
  "language_info": {
   "codemirror_mode": {
    "name": "ipython",
    "version": 3
   },
   "file_extension": ".py",
   "mimetype": "text/x-python",
   "name": "python",
   "nbconvert_exporter": "python",
   "pygments_lexer": "ipython3",
   "version": "3.10.10"
  }
 },
 "nbformat": 4,
 "nbformat_minor": 5
}
