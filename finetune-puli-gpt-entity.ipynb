{
 "cells": [
  {
   "cell_type": "code",
   "execution_count": null,
   "id": "f7f00a64-8961-4d56-bb34-f82c5185253d",
   "metadata": {
    "tags": []
   },
   "outputs": [],
   "source": [
    "import torch\n",
    "from transformers import AutoTokenizer, AutoModelForCausalLM\n",
    "from peft import LoraConfig, get_peft_model\n",
    "from peft import prepare_model_for_int8_training\n",
    "import bitsandbytes as bnb\n",
    "\n",
    "model = AutoModelForCausalLM.from_pretrained(\n",
    "    \"NYTK/PULI-GPT-3SX\",\n",
    "    load_in_8bit=True,\n",
    "    device_map=\"auto\",\n",
    ")\n",
    "\n",
    "model = prepare_model_for_int8_training(model)\n",
    "config = LoraConfig(\n",
    "    r=8, lora_alpha=16, target_modules=[\"query\", \"value\"], lora_dropout=0.05, bias=\"none\", task_type=\"CAUSAL_LM\"\n",
    ")\n",
    "\n",
    "model = get_peft_model(model, config)\n",
    "\n",
    "tokenizer = AutoTokenizer.from_pretrained(\"NYTK/PULI-GPT-3SX\")\n",
    "tokenizer.add_special_tokens({'pad_token': '[PAD]'})"
   ]
  },
  {
   "cell_type": "code",
   "execution_count": null,
   "id": "a0be7b1f-28db-408b-9a01-c4a7b4947cbb",
   "metadata": {},
   "outputs": [],
   "source": [
    "# to load a previous model for further finetuning\n",
    "\n",
    "from peft import set_peft_model_state_dict\n",
    "\n",
    "adapters_weights = torch.load('kmonitor-entity-v1-20k//adapter_model.bin')\n",
    "model = set_peft_model_state_dict(model, adapters_weights)"
   ]
  },
  {
   "cell_type": "code",
   "execution_count": null,
   "id": "7451bbd0-41f0-419f-82ae-0e7b38a45dbf",
   "metadata": {},
   "outputs": [],
   "source": [
    "from datasets import load_from_disk\n",
    "\n",
    "data = load_from_disk('kmonitor_entity')"
   ]
  },
  {
   "cell_type": "code",
   "execution_count": null,
   "id": "e4f16a66-e555-43fa-bb2f-600815f11d88",
   "metadata": {},
   "outputs": [],
   "source": [
    "data"
   ]
  },
  {
   "cell_type": "code",
   "execution_count": null,
   "id": "f6f2b757-4c05-4a93-9ef4-99d48e723228",
   "metadata": {},
   "outputs": [],
   "source": [
    "def trunc_to(descr, n):\n",
    "    if '.' in descr[int(n/2):n]:\n",
    "        return descr[:descr[:n].rfind('.')+1]\n",
    "    elif ' ' in descr[int(n/2):n]:\n",
    "        return descr[:descr[:n].rfind(' ')+1]\n",
    "    else:\n",
    "        return descr[:n]\n",
    "\n",
    "data = data.map(lambda samples: tokenizer('[entitás]\\n' + trunc_to(samples['text'], 2500) + '\\n\\n###\\n\\nszemély: '+ samples['person'] +'\\ntéma: ' +('korrupció' if samples['is_corrupt'] else 'egyéb')+'\\n'), batched=False)"
   ]
  },
  {
   "cell_type": "code",
   "execution_count": null,
   "id": "16037b17-7bc7-430f-8536-366e1fbfefe9",
   "metadata": {
    "tags": []
   },
   "outputs": [],
   "source": [
    "data['train'] = data['train'].remove_columns(['text', 'person', 'is_corrupt'])\n",
    "\n",
    "data"
   ]
  },
  {
   "cell_type": "code",
   "execution_count": null,
   "id": "d340c50c-dd5c-4b6d-98b4-88a966303a2b",
   "metadata": {},
   "outputs": [],
   "source": [
    "strain = data['train'].select(range(0, 20000))"
   ]
  },
  {
   "cell_type": "code",
   "execution_count": null,
   "id": "02597608-3012-4a51-b361-75ba9bca91ac",
   "metadata": {},
   "outputs": [],
   "source": [
    "from transformers import Trainer\n",
    "\n",
    "\n",
    "class CustomTrainer(Trainer):\n",
    "    def compute_loss(self, model, inputs, return_outputs=False):\n",
    "        if hasattr(self, 'n_step'):\n",
    "            self.n_step += 1\n",
    "        else:\n",
    "            self.n_step = 1\n",
    "        if self.n_step % 1000 == 0:\n",
    "            model.save_pretrained(\"./kmonitor-gpt-fixed-loss-checkpoint-\"+str(self.n_step))\n",
    "        label = tokenizer.decode([inputs.get(\"input_ids\")[0][-2]]).strip()\n",
    "        output = model(**inputs)\n",
    "        l = output['loss']\n",
    "\n",
    "        outputs = model.generate(input_ids=inputs.get(\"input_ids\")[:, :-2], attention_mask=inputs.get(\"attention_mask\")[:, :-2], max_new_tokens=1)\n",
    "        result = tokenizer.decode([outputs[0][-1]]).strip()\n",
    "        loss = 0.5\n",
    "        # TODO better loss calculation\n",
    "        if label.strip() in result.strip():\n",
    "            loss = 0.0\n",
    "            l /= 2\n",
    "        elif label.strip() not in ['egyéb', 'korrupció']:\n",
    "            loss = 1.0\n",
    "\n",
    "        l.backward()\n",
    "        return torch.tensor(loss, device='cuda:0', requires_grad=True)"
   ]
  },
  {
   "cell_type": "code",
   "execution_count": null,
   "id": "59b78a85-b57f-4771-8cb2-31cdb6810ac9",
   "metadata": {},
   "outputs": [],
   "source": [
    "import transformers\n",
    "\n",
    "trainer = CustomTrainer(\n",
    "    model=model,\n",
    "    train_dataset=strain,\n",
    "    args=transformers.TrainingArguments(\n",
    "        report_to='wandb',\n",
    "        per_device_train_batch_size=1,\n",
    "        per_device_eval_batch_size=1,\n",
    "        num_train_epochs=1,\n",
    "        gradient_accumulation_steps=1,\n",
    "        warmup_steps=300,\n",
    "        max_steps=20000,\n",
    "        learning_rate=9e-3,\n",
    "        fp16=True,\n",
    "        weight_decay=0.0,\n",
    "        logging_steps=10,\n",
    "        #callbacks=[SavePeftModelCallback],\n",
    "        output_dir=\"outputs\",\n",
    "        resume_from_checkpoint=True,\n",
    "        save_total_limit=1,\n",
    "    ),\n",
    "    data_collator=transformers.DataCollatorForLanguageModeling(tokenizer, mlm=False),\n",
    ")\n",
    "\n",
    "model.config.use_cache = False\n",
    "trainer.train()"
   ]
  },
  {
   "cell_type": "code",
   "execution_count": null,
   "id": "11d9c90b-fac3-4270-ab20-b04f79840bcc",
   "metadata": {
    "tags": []
   },
   "outputs": [],
   "source": [
    "model.save_pretrained(\"./kmonitor-entity-v1-20k/\")"
   ]
  }
 ],
 "metadata": {
  "kernelspec": {
   "display_name": "ipykernel",
   "language": "python",
   "name": "ipykernel"
  },
  "language_info": {
   "codemirror_mode": {
    "name": "ipython",
    "version": 3
   },
   "file_extension": ".py",
   "mimetype": "text/x-python",
   "name": "python",
   "nbconvert_exporter": "python",
   "pygments_lexer": "ipython3",
   "version": "3.10.10"
  }
 },
 "nbformat": 4,
 "nbformat_minor": 5
}
