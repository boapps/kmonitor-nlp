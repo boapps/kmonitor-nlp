{
 "cells": [
  {
   "cell_type": "code",
   "execution_count": 1,
   "id": "44b476e1-7b7b-4bf2-a7ca-33b3f543341d",
   "metadata": {},
   "outputs": [],
   "source": [
    "api_key = ''"
   ]
  },
  {
   "cell_type": "code",
   "execution_count": 2,
   "id": "bf0fe1aa-5ebf-4273-9bfe-b5d08d26f4f3",
   "metadata": {},
   "outputs": [
    {
     "name": "stderr",
     "output_type": "stream",
     "text": [
      "<frozen importlib._bootstrap>:241: RuntimeWarning: pyarrow._fs.FileInfo size changed, may indicate binary incompatibility. Expected 64 from C header, got 88 from PyObject\n",
      "<frozen importlib._bootstrap>:241: RuntimeWarning: pyarrow._fs.FileSelector size changed, may indicate binary incompatibility. Expected 48 from C header, got 72 from PyObject\n"
     ]
    }
   ],
   "source": [
    "from datasets import load_from_disk\n",
    "\n",
    "data = load_from_disk('dataset-fixed')"
   ]
  },
  {
   "cell_type": "code",
   "execution_count": 16,
   "id": "b1d4201f-7e60-41b1-81cf-8dfa1d4f8f93",
   "metadata": {},
   "outputs": [
    {
     "name": "stdout",
     "output_type": "stream",
     "text": [
      "Döntsd el a következő cikkekről, hogy korrupcióhoz kapcsolódnak vagy egyéb témáról szólnak!\n",
      "\n",
      "Kinéztek a repülő ablakán és egy észak-koreai rakétát láttak\n",
      "téma: egyéb\n",
      "\n",
      "Belföld: Szerelmi szál a Zuschlag-ügyben\n",
      "téma: korrupció\n",
      "\n",
      "A belső elhárítás tudott a békési rendőrügyekről\n",
      "téma: korrupció\n",
      "\n",
      "Megváltoztatja a NER megjelenése a magyar Mekit\n",
      "téma: egyéb\n",
      "\n",
      "Belföld: Novemberre idézi be a bíró Gyurcsány Ferencet\n",
      "téma:\n"
     ]
    }
   ],
   "source": [
    "n = 2\n",
    "prompt = 'Döntsd el a következő cikkről, hogy korrupcióhoz kapcsolódó vagy egyéb témáról szól!\\n\\n'\n",
    "for i in [1, 2, 3, 5]:\n",
    "    prompt += ''+data['train'][i]['title'] + '\\n' +'téma: '+('egyéb' if data['train'][i]['theme'] == 0 else 'korrupció') + '\\n\\n'\n",
    "    #+'\\n\\ncikk: ' + data['train'][2]['title'] + '\\n' +'###\\ntéma: korrupció'+'\\n\\ncikk: ' + data['train'][4]['title'] + '\\n' +'###\\ntéma: korrupció'+'\\n\\ncikk: ' + data['train'][6]['title'] + '\\n' +'###\\ntéma: egyéb'+'\\n\\ncikk: ' + data['test'][n]['title'] + '\\n' +'###\\ntéma:'\n",
    "prompt += '' + data['test'][n]['title'] + '\\n' +'téma:'\n",
    "print(prompt)"
   ]
  },
  {
   "cell_type": "code",
   "execution_count": 19,
   "id": "59b15a30-fbfa-45a8-bcc5-81741b22ee20",
   "metadata": {},
   "outputs": [],
   "source": [
    "def trunc_to(descr, n):\n",
    "    if '.' in descr[int(n/2):n]:\n",
    "        return descr[:descr[:n].rfind('.')+1]\n",
    "    elif ' ' in descr[int(n/2):n]:\n",
    "        return descr[:descr[:n].rfind(' ')+1]\n",
    "    else:\n",
    "        return descr[:n]\n"
   ]
  },
  {
   "cell_type": "code",
   "execution_count": 47,
   "id": "24458517-8a60-4d77-9de5-aac416142ef8",
   "metadata": {},
   "outputs": [
    {
     "name": "stderr",
     "output_type": "stream",
     "text": [
      "100%|██████████████████████████████████████████████████████████████████████████████████████████████████████████████████████████████████████| 100/100 [03:09<00:00,  1.89s/it]\n"
     ]
    }
   ],
   "source": [
    "import os\n",
    "import openai\n",
    "from time import sleep\n",
    "from tqdm import tqdm\n",
    "\n",
    "f = open('resp-50.txt', 'w')\n",
    "responses = list()\n",
    "labels = list()\n",
    "openai.api_key = api_key\n",
    "for n in tqdm(range(100)):\n",
    "    prompt = 'Döntsd el a következő cikkekről, hogy korrupcióhoz kapcsolódnak vagy egyéb témáról szólnak!\\n\\n'\n",
    "    for i in [1, 2, 3, 4]:\n",
    "        prompt += ''+data['train'][i]['title'] + '\\n' +'téma: '+('egyéb' if data['train'][i]['theme'] == 0 else 'korrupció') + '\\n\\n'\n",
    "        #+'\\n\\ncikk: ' + data['train'][2]['title'] + '\\n' +'###\\ntéma: korrupció'+'\\n\\ncikk: ' + data['train'][4]['title'] + '\\n' +'###\\ntéma: korrupció'+'\\n\\ncikk: ' + data['train'][6]['title'] + '\\n' +'###\\ntéma: egyéb'+'\\n\\ncikk: ' + data['test'][n]['title'] + '\\n' +'###\\ntéma:'\n",
    "    prompt += '' + data['test'][n]['title'] + '\\n' +'téma:'\n",
    "    response = None\n",
    "    while True:\n",
    "        try:\n",
    "            response = openai.Completion.create(\n",
    "              model=\"text-davinci-003\",\n",
    "              prompt=prompt,\n",
    "              temperature=0,\n",
    "              max_tokens=6,\n",
    "              top_p=1,\n",
    "              frequency_penalty=0.5,\n",
    "              presence_penalty=0\n",
    "            )\n",
    "            sleep(1)\n",
    "            break\n",
    "        except Exception:\n",
    "            print('error')\n",
    "            sleep(1)\n",
    "    resp = response[\"choices\"][0][\"text\"]\n",
    "    responses.append(resp)\n",
    "    labels.append(data['test']['theme'][n])\n",
    "    f.write(str(data['test']['theme'][n])+' '+resp+'\\n')\n",
    "f.close()"
   ]
  },
  {
   "cell_type": "code",
   "execution_count": 48,
   "id": "ab196d49-3e42-4d47-880c-faf2808653c5",
   "metadata": {},
   "outputs": [
    {
     "data": {
      "text/plain": [
       "[(' egyéb', 0),\n",
       " (' egyéb', 0),\n",
       " (' korrupció', 1),\n",
       " (' egyéb', 0),\n",
       " (' egyéb', 0),\n",
       " (' egyéb', 0),\n",
       " (' egyéb', 0),\n",
       " (' korrupció', 0),\n",
       " (' egyéb', 0),\n",
       " (' egyéb', 0),\n",
       " (' egyéb', 1),\n",
       " (' egyéb', 1),\n",
       " (' korrupció', 1),\n",
       " (' egyéb', 0),\n",
       " (' egyéb', 0),\n",
       " (' korrupció', 0),\n",
       " (' egyéb', 0),\n",
       " (' korrupció', 1),\n",
       " (' egyéb', 0),\n",
       " (' egyéb', 0),\n",
       " (' egyéb', 0),\n",
       " (' korrupció', 1),\n",
       " (' korrupció', 1),\n",
       " (' egyéb', 0),\n",
       " (' egyéb', 0),\n",
       " (' korrupció', 1),\n",
       " (' korrupció', 1),\n",
       " (' korrupció', 1),\n",
       " (' egyéb', 0),\n",
       " (' egyéb', 0),\n",
       " (' egyéb', 0),\n",
       " (' korrupció', 1),\n",
       " (' egyéb', 0),\n",
       " (' egyéb', 0),\n",
       " (' korrupció', 1),\n",
       " (' egyéb', 0),\n",
       " (' egyéb', 0),\n",
       " (' egyéb', 0),\n",
       " (' korrupció', 1),\n",
       " (' korrupció', 1),\n",
       " (' korrupció', 0),\n",
       " (' korrupció', 1),\n",
       " (' korrupció', 1),\n",
       " (' egyéb', 0),\n",
       " (' egyéb', 0),\n",
       " (' korrupció', 1),\n",
       " (' korrupció', 0),\n",
       " (' egyéb', 1),\n",
       " (' korrupció', 1),\n",
       " (' egyéb', 0),\n",
       " (' egyéb', 0),\n",
       " (' egyéb', 1),\n",
       " (' egyéb', 0),\n",
       " (' korrupció', 0),\n",
       " (' egyéb', 0),\n",
       " (' korrupció', 1),\n",
       " (' korrupció', 0),\n",
       " (' egyéb', 0),\n",
       " (' egyéb', 0),\n",
       " (' egyéb', 0),\n",
       " (' egyéb', 0),\n",
       " (' egyéb', 0),\n",
       " (' egyéb', 0),\n",
       " (' egyéb', 0),\n",
       " (' korrupció', 1),\n",
       " (' egyéb', 0),\n",
       " (' egyéb', 0),\n",
       " (' korrupció', 1),\n",
       " (' egyéb', 0),\n",
       " (' egyéb', 0),\n",
       " (' egyéb', 0),\n",
       " (' egyéb', 0),\n",
       " (' egyéb', 1),\n",
       " (' korrupció', 1),\n",
       " (' korrupció', 1),\n",
       " (' egyéb', 0),\n",
       " (' korrupció', 1),\n",
       " (' egyéb', 0),\n",
       " (' egyéb', 0),\n",
       " (' korrupció', 1),\n",
       " (' egyéb', 0),\n",
       " (' korrupció', 1),\n",
       " (' egyéb', 1),\n",
       " (' egyéb', 0),\n",
       " (' egyéb', 0),\n",
       " (' korrupció', 1),\n",
       " (' egyéb', 0),\n",
       " (' korrupció', 1),\n",
       " (' egyéb', 0),\n",
       " (' egyéb', 0),\n",
       " (' egyéb', 0),\n",
       " (' korrupció', 1),\n",
       " (' egyéb', 0),\n",
       " (' egyéb', 0),\n",
       " (' egyéb', 1),\n",
       " (' korrupció', 1),\n",
       " (' egyéb', 0),\n",
       " (' egyéb', 0),\n",
       " (' korrupció', 1),\n",
       " (' korrupció', 1)]"
      ]
     },
     "execution_count": 48,
     "metadata": {},
     "output_type": "execute_result"
    }
   ],
   "source": [
    "list(zip(responses, labels))"
   ]
  },
  {
   "cell_type": "code",
   "execution_count": 49,
   "id": "88926b06-c2bd-4f3b-8144-b5f2b335ef0f",
   "metadata": {},
   "outputs": [
    {
     "name": "stdout",
     "output_type": "stream",
     "text": [
      "100 87\n"
     ]
    }
   ],
   "source": [
    "n = 0\n",
    "c = 0\n",
    "for r, l in zip(responses, labels):\n",
    "    n += 1\n",
    "    if (l == 1 and 'korrupció' in r) or (l == 0 and 'korrupció' not in r):\n",
    "        c += 1\n",
    "print(n, c)"
   ]
  },
  {
   "cell_type": "code",
   "execution_count": 43,
   "id": "8ed9c580-482a-41b9-8b4b-9225e040bb17",
   "metadata": {},
   "outputs": [
    {
     "name": "stdout",
     "output_type": "stream",
     "text": [
      "50 33\n"
     ]
    }
   ],
   "source": [
    "n = 0\n",
    "c = 0\n",
    "for r, l in zip(responses, labels):\n",
    "    n += 1\n",
    "    if (l == 1 and 'igen' in r.lower()) or (l == 0 and 'igen' not in r.lower()):\n",
    "        c += 1\n",
    "print(n, c)"
   ]
  }
 ],
 "metadata": {
  "kernelspec": {
   "display_name": "ipykernel",
   "language": "python",
   "name": "ipykernel"
  },
  "language_info": {
   "codemirror_mode": {
    "name": "ipython",
    "version": 3
   },
   "file_extension": ".py",
   "mimetype": "text/x-python",
   "name": "python",
   "nbconvert_exporter": "python",
   "pygments_lexer": "ipython3",
   "version": "3.10.10"
  }
 },
 "nbformat": 4,
 "nbformat_minor": 5
}
